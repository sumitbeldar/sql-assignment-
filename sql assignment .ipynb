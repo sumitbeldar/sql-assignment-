{
 "cells": [
  {
   "cell_type": "markdown",
   "id": "0128281f",
   "metadata": {},
   "source": [
    "#q1\n",
    "A database is a collection of data that is organized and stored in a way that allows for efficient retrieval and management of information. Databases can be used to store a variety of information such as customer information, product information, financial information, and more.\n",
    "SQL databases are structured databases that use a relational data model, which means that the data is organized into tables with predefined columns and relationships between them. SQL databases are designed to handle structured data, and their queries are typically written using SQL, a standard language used to manage relational databases. SQL databases are commonly used in enterprise applications, financial systems, and online transaction processing systems.\n",
    "\n",
    "NoSQL databases, on the other hand, use a non-relational data model, which means that they don't use tables, columns, or relationships. Instead, NoSQL databases are designed to handle unstructured or semi-structured data, such as text, documents, graphs, or key-value pairs. NoSQL databases are typically used for applications that require high scalability and availability, such as social networks, e-commerce platforms, and mobile applications.\n"
   ]
  },
  {
   "cell_type": "markdown",
   "id": "d9df39ec",
   "metadata": {},
   "source": [
    "#q2\n",
    "DDL stands for Data Definition Language, which is a set of SQL commands used to create, modify, and delete database objects such as tables, indexes, and constraints.\n",
    "CREATE: The CREATE command is used to create a new database object such as a table, index, or view.\n",
    "DROP: The DROP command is used to remove an existing database object such as a table, index, or view.\n",
    "ALTER: The ALTER command is used to modify an existing database object such as a table, index, or view.\n",
    "TRUNCATE: The TRUNCATE command is used to delete all data from an existing table. \n"
   ]
  },
  {
   "cell_type": "markdown",
   "id": "ca6ad158",
   "metadata": {},
   "source": [
    "#q3\n",
    "DML stands for Data Manipulation Language, which is a set of SQL commands used to manipulate data stored in a database.\n",
    "\n",
    "INSERT: The INSERT command is used to add new rows of data to a table.\n",
    "UPDATE: The UPDATE command is used to modify existing data in a table.\n",
    "DELETE: The DELETE command is used to remove rows of data from a table.\n",
    "\n"
   ]
  },
  {
   "cell_type": "markdown",
   "id": "70c2ba20",
   "metadata": {},
   "source": [
    "#q4\n",
    "DQL stands for Data Query Language, which is a set of SQL commands used to query or retrieve data from a database.\n",
    "SELECT: The SELECT command is used to retrieve data from one or more tables in a database. Here is an example of a SELECT statement:\n",
    "SELECT name, age, grade\n",
    "FROM students\n",
    "WHERE grade = 'A';\n",
    "In the SELECT statement, you can also use other keywords such as DISTINCT, ORDER BY, and GROUP BY to further refine your query.\n",
    "\n",
    "DISTINCT is used to remove duplicates from the result set.\n",
    "ORDER BY is used to sort the result set in ascending or descending order based on one or more columns.\n",
    "GROUP BY is used to group the result set by one or more columns.\n",
    "\n",
    "SELECT DISTINCT grade\n",
    "FROM students\n",
    "ORDER BY grade DESC;\n",
    "\n"
   ]
  },
  {
   "cell_type": "markdown",
   "id": "053d1fe9",
   "metadata": {},
   "source": [
    "#q5\n",
    "A Primary Key is a column or a set of columns in a database table that uniquely identifies each row in that table. It is used to enforce data integrity and to ensure that each row in the table is unique. The primary key constraint prevents the insertion of duplicate rows in the table and it also provides a fast way to retrieve data from the table using the primary key column.\n",
    "\n",
    "A Foreign Key is a column or a set of columns in a database table that refers to the Primary Key column of another table. It is used to enforce referential integrity between two tables and to ensure that the data in the child table is consistent with the data in the parent table."
   ]
  },
  {
   "cell_type": "markdown",
   "id": "493f84be",
   "metadata": {},
   "source": [
    "#q6\n",
    "import mysql.connector\n",
    "\n",
    "\n",
    "mydb = mysql.connector.connect(\n",
    "  host=\"localhost\",\n",
    "  user=\"yourusername\",\n",
    "  password=\"yourpassword\",\n",
    "  database=\"yourdatabase\"\n",
    ")\n",
    "mycursor = mydb.cursor()\n",
    "\n",
    "mycursor.execute(\"SELECT * FROM customers\")\n",
    "\n",
    "result = mycursor.fetchall()\n",
    "for row in result:\n",
    "  print(row)\n",
    "\n",
    "The mysql.connector.connect() method establishes a connection to the MySQL database using the specified host, username, password, and database name.\n",
    "\n",
    "The cursor() method creates a cursor object that can be used to execute SQL queries.\n",
    "\n",
    "The execute() method is used to execute a SQL query on the MySQL database. You can pass any SQL statement as a parameter to the execute() method.\n",
    "\n"
   ]
  },
  {
   "cell_type": "markdown",
   "id": "6353fa51",
   "metadata": {},
   "source": [
    "#q7\n",
    "FROM clause - This clause specifies the table or tables from which the data will be retrieved.\n",
    "\n",
    "WHERE clause - This clause is used to filter the data based on specified conditions.\n",
    "\n",
    "GROUP BY clause - This clause is used to group the data based on specified columns.\n",
    "\n",
    "HAVING clause - This clause is used to filter the grouped data based on specified conditions.\n",
    "\n",
    "SELECT clause - This clause is used to specify the columns to be retrieved.\n",
    "\n",
    "DISTINCT clause - This clause is used to remove duplicate rows from the result set.\n",
    "\n",
    "ORDER BY clause - This clause is used to sort the result set based on specified columns.\n",
    "\n",
    "LIMIT clause - This clause is used to limit the number of rows returned in the result set"
   ]
  }
 ],
 "metadata": {
  "kernelspec": {
   "display_name": "Python 3 (ipykernel)",
   "language": "python",
   "name": "python3"
  },
  "language_info": {
   "codemirror_mode": {
    "name": "ipython",
    "version": 3
   },
   "file_extension": ".py",
   "mimetype": "text/x-python",
   "name": "python",
   "nbconvert_exporter": "python",
   "pygments_lexer": "ipython3",
   "version": "3.9.13"
  }
 },
 "nbformat": 4,
 "nbformat_minor": 5
}
